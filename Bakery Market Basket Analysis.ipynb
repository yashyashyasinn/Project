{
 "cells": [
  {
   "cell_type": "markdown",
   "id": "b77e628a",
   "metadata": {},
   "source": [
    "# Import Library\n",
    "#Pertama-tama mengimpor library yang akan kita gunakan untuk analisis eksplorasi data dan visualisasi data."
   ]
  },
  {
   "cell_type": "code",
   "execution_count": 1,
   "id": "fa8c8824",
   "metadata": {},
   "outputs": [],
   "source": [
    "import pandas as pd\n",
    "import numpy as np\n",
    "import seaborn as sns\n",
    "import matplotlib.pyplot as plt\n",
    "%matplotlib inline"
   ]
  },
  {
   "cell_type": "markdown",
   "id": "1b06d58b",
   "metadata": {},
   "source": [
    "# Import Dataset"
   ]
  },
  {
   "cell_type": "code",
   "execution_count": 2,
   "id": "11338eea",
   "metadata": {},
   "outputs": [
    {
     "data": {
      "text/html": [
       "<div>\n",
       "<style scoped>\n",
       "    .dataframe tbody tr th:only-of-type {\n",
       "        vertical-align: middle;\n",
       "    }\n",
       "\n",
       "    .dataframe tbody tr th {\n",
       "        vertical-align: top;\n",
       "    }\n",
       "\n",
       "    .dataframe thead th {\n",
       "        text-align: right;\n",
       "    }\n",
       "</style>\n",
       "<table border=\"1\" class=\"dataframe\">\n",
       "  <thead>\n",
       "    <tr style=\"text-align: right;\">\n",
       "      <th></th>\n",
       "      <th>Date</th>\n",
       "      <th>Time</th>\n",
       "      <th>Transaction</th>\n",
       "      <th>Item</th>\n",
       "    </tr>\n",
       "  </thead>\n",
       "  <tbody>\n",
       "    <tr>\n",
       "      <th>0</th>\n",
       "      <td>2016-10-30</td>\n",
       "      <td>09:58:11</td>\n",
       "      <td>1</td>\n",
       "      <td>Bread</td>\n",
       "    </tr>\n",
       "    <tr>\n",
       "      <th>1</th>\n",
       "      <td>2016-10-30</td>\n",
       "      <td>10:05:34</td>\n",
       "      <td>2</td>\n",
       "      <td>Scandinavian</td>\n",
       "    </tr>\n",
       "    <tr>\n",
       "      <th>2</th>\n",
       "      <td>2016-10-30</td>\n",
       "      <td>10:05:34</td>\n",
       "      <td>2</td>\n",
       "      <td>Scandinavian</td>\n",
       "    </tr>\n",
       "    <tr>\n",
       "      <th>3</th>\n",
       "      <td>2016-10-30</td>\n",
       "      <td>10:07:57</td>\n",
       "      <td>3</td>\n",
       "      <td>Hot chocolate</td>\n",
       "    </tr>\n",
       "    <tr>\n",
       "      <th>4</th>\n",
       "      <td>2016-10-30</td>\n",
       "      <td>10:07:57</td>\n",
       "      <td>3</td>\n",
       "      <td>Jam</td>\n",
       "    </tr>\n",
       "    <tr>\n",
       "      <th>...</th>\n",
       "      <td>...</td>\n",
       "      <td>...</td>\n",
       "      <td>...</td>\n",
       "      <td>...</td>\n",
       "    </tr>\n",
       "    <tr>\n",
       "      <th>21288</th>\n",
       "      <td>2017-04-09</td>\n",
       "      <td>14:32:58</td>\n",
       "      <td>9682</td>\n",
       "      <td>Coffee</td>\n",
       "    </tr>\n",
       "    <tr>\n",
       "      <th>21289</th>\n",
       "      <td>2017-04-09</td>\n",
       "      <td>14:32:58</td>\n",
       "      <td>9682</td>\n",
       "      <td>Tea</td>\n",
       "    </tr>\n",
       "    <tr>\n",
       "      <th>21290</th>\n",
       "      <td>2017-04-09</td>\n",
       "      <td>14:57:06</td>\n",
       "      <td>9683</td>\n",
       "      <td>Coffee</td>\n",
       "    </tr>\n",
       "    <tr>\n",
       "      <th>21291</th>\n",
       "      <td>2017-04-09</td>\n",
       "      <td>14:57:06</td>\n",
       "      <td>9683</td>\n",
       "      <td>Pastry</td>\n",
       "    </tr>\n",
       "    <tr>\n",
       "      <th>21292</th>\n",
       "      <td>2017-04-09</td>\n",
       "      <td>15:04:24</td>\n",
       "      <td>9684</td>\n",
       "      <td>Smoothies</td>\n",
       "    </tr>\n",
       "  </tbody>\n",
       "</table>\n",
       "<p>21293 rows × 4 columns</p>\n",
       "</div>"
      ],
      "text/plain": [
       "             Date      Time  Transaction           Item\n",
       "0      2016-10-30  09:58:11            1          Bread\n",
       "1      2016-10-30  10:05:34            2   Scandinavian\n",
       "2      2016-10-30  10:05:34            2   Scandinavian\n",
       "3      2016-10-30  10:07:57            3  Hot chocolate\n",
       "4      2016-10-30  10:07:57            3            Jam\n",
       "...           ...       ...          ...            ...\n",
       "21288  2017-04-09  14:32:58         9682         Coffee\n",
       "21289  2017-04-09  14:32:58         9682            Tea\n",
       "21290  2017-04-09  14:57:06         9683         Coffee\n",
       "21291  2017-04-09  14:57:06         9683         Pastry\n",
       "21292  2017-04-09  15:04:24         9684      Smoothies\n",
       "\n",
       "[21293 rows x 4 columns]"
      ]
     },
     "execution_count": 2,
     "metadata": {},
     "output_type": "execute_result"
    }
   ],
   "source": [
    "df = pd.read_csv('BreadBasket_DMS.csv')\n",
    "df"
   ]
  },
  {
   "cell_type": "markdown",
   "id": "ae79fbe1",
   "metadata": {},
   "source": [
    "# Data Preperation"
   ]
  },
  {
   "cell_type": "markdown",
   "id": "1eabc7ad",
   "metadata": {},
   "source": [
    "Memastikan tidak ada tipe data yang kosong / sesuai"
   ]
  },
  {
   "cell_type": "code",
   "execution_count": 3,
   "id": "67db6130",
   "metadata": {},
   "outputs": [
    {
     "name": "stdout",
     "output_type": "stream",
     "text": [
      "Dataset Information: \n",
      "\n",
      "<class 'pandas.core.frame.DataFrame'>\n",
      "RangeIndex: 21293 entries, 0 to 21292\n",
      "Data columns (total 4 columns):\n",
      " #   Column       Non-Null Count  Dtype \n",
      "---  ------       --------------  ----- \n",
      " 0   Date         21293 non-null  object\n",
      " 1   Time         21293 non-null  object\n",
      " 2   Transaction  21293 non-null  int64 \n",
      " 3   Item         21293 non-null  object\n",
      "dtypes: int64(1), object(3)\n",
      "memory usage: 665.5+ KB\n",
      "None\n"
     ]
    }
   ],
   "source": [
    "# cek tipe data dari setiap kolom\n",
    "print('Dataset Information: \\n')\n",
    "print(df.info())"
   ]
  },
  {
   "cell_type": "code",
   "execution_count": 4,
   "id": "795e1f27",
   "metadata": {},
   "outputs": [
    {
     "name": "stdout",
     "output_type": "stream",
     "text": [
      "First Ten Rows of the DataFrame: \n",
      "\n",
      "         Date      Time  Transaction           Item\n",
      "0  2016-10-30  09:58:11            1          Bread\n",
      "1  2016-10-30  10:05:34            2   Scandinavian\n",
      "2  2016-10-30  10:05:34            2   Scandinavian\n",
      "3  2016-10-30  10:07:57            3  Hot chocolate\n",
      "4  2016-10-30  10:07:57            3            Jam\n",
      "5  2016-10-30  10:07:57            3        Cookies\n",
      "6  2016-10-30  10:08:41            4         Muffin\n",
      "7  2016-10-30  10:13:03            5         Coffee\n",
      "8  2016-10-30  10:13:03            5         Pastry\n",
      "9  2016-10-30  10:13:03            5          Bread\n"
     ]
    }
   ],
   "source": [
    "# mencetak 10 data pertama\n",
    "print('First Ten Rows of the DataFrame: \\n')\n",
    "print(df.head(10))"
   ]
  },
  {
   "cell_type": "code",
   "execution_count": 8,
   "id": "0c3ca946",
   "metadata": {},
   "outputs": [
    {
     "name": "stdout",
     "output_type": "stream",
     "text": [
      "Unique Items:  95\n"
     ]
    }
   ],
   "source": [
    "print('Unique Items: ', df['Item'].nunique())"
   ]
  },
  {
   "cell_type": "code",
   "execution_count": 6,
   "id": "51be7dfa",
   "metadata": {},
   "outputs": [
    {
     "name": "stdout",
     "output_type": "stream",
     "text": [
      "Unique Items:  95\n",
      "\n",
      " ['Bread' 'Scandinavian' 'Hot chocolate' 'Jam' 'Cookies' 'Muffin' 'Coffee'\n",
      " 'Pastry' 'Medialuna' 'Tea' 'NONE' 'Tartine' 'Basket' 'Mineral water'\n",
      " 'Farm House' 'Fudge' 'Juice' \"Ella's Kitchen Pouches\" 'Victorian Sponge'\n",
      " 'Frittata' 'Hearty & Seasonal' 'Soup' 'Pick and Mix Bowls' 'Smoothies'\n",
      " 'Cake' 'Mighty Protein' 'Chicken sand' 'Coke' 'My-5 Fruit Shoot'\n",
      " 'Focaccia' 'Sandwich' 'Alfajores' 'Eggs' 'Brownie' 'Dulce de Leche'\n",
      " 'Honey' 'The BART' 'Granola' 'Fairy Doors' 'Empanadas' 'Keeping It Local'\n",
      " 'Art Tray' 'Bowl Nic Pitt' 'Bread Pudding' 'Adjustment' 'Truffles'\n",
      " 'Chimichurri Oil' 'Bacon' 'Spread' 'Kids biscuit' 'Siblings'\n",
      " 'Caramel bites' 'Jammie Dodgers' 'Tiffin' 'Olum & polenta' 'Polenta'\n",
      " 'The Nomad' 'Hack the stack' 'Bakewell' 'Lemon and coconut' 'Toast'\n",
      " 'Scone' 'Crepes' 'Vegan mincepie' 'Bare Popcorn' 'Muesli' 'Crisps'\n",
      " 'Pintxos' 'Gingerbread syrup' 'Panatone' 'Brioche and salami'\n",
      " 'Afternoon with the baker' 'Salad' 'Chicken Stew' 'Spanish Brunch'\n",
      " 'Raspberry shortbread sandwich' 'Extra Salami or Feta' 'Duck egg'\n",
      " 'Baguette' \"Valentine's card\" 'Tshirt' 'Vegan Feast' 'Postcard'\n",
      " 'Nomad bag' 'Chocolates' 'Coffee granules ' 'Drinking chocolate spoons '\n",
      " 'Christmas common' 'Argentina Night' 'Half slice Monster ' 'Gift voucher'\n",
      " 'Cherry me Dried fruit' 'Mortimer' 'Raw bars' 'Tacos/Fajita']\n"
     ]
    }
   ],
   "source": [
    "#Mencetak data item yang unik (memiliki nilai item berbeda)\n",
    "print('Unique Items: ', df['Item'].nunique())\n",
    "print( '\\n', df['Item'].unique())"
   ]
  },
  {
   "cell_type": "code",
   "execution_count": 9,
   "id": "68de865a",
   "metadata": {},
   "outputs": [
    {
     "name": "stdout",
     "output_type": "stream",
     "text": [
      "Date           0\n",
      "Time           0\n",
      "Transaction    0\n",
      "Item           0\n",
      "dtype: int64\n"
     ]
    }
   ],
   "source": [
    "# Cek missing value dan zeros\n",
    "print(df.isnull().sum().sort_values(ascending=False))"
   ]
  },
  {
   "cell_type": "code",
   "execution_count": 10,
   "id": "fba81ce5",
   "metadata": {},
   "outputs": [
    {
     "name": "stdout",
     "output_type": "stream",
     "text": [
      "             Date      Time  Transaction  Item\n",
      "26     2016-10-30  10:27:21           11  NONE\n",
      "38     2016-10-30  10:34:36           15  NONE\n",
      "39     2016-10-30  10:34:36           15  NONE\n",
      "66     2016-10-30  11:05:30           29  NONE\n",
      "80     2016-10-30  11:37:10           37  NONE\n",
      "...           ...       ...          ...   ...\n",
      "21108  2017-04-08  11:54:22         9590  NONE\n",
      "21122  2017-04-08  12:58:25         9599  NONE\n",
      "21254  2017-04-09  12:01:07         9666  NONE\n",
      "21255  2017-04-09  12:04:13         9667  NONE\n",
      "21266  2017-04-09  12:31:28         9672  NONE\n",
      "\n",
      "[786 rows x 4 columns]\n"
     ]
    }
   ],
   "source": [
    "# cek nilai \"NONE\" pada kolom Item\n",
    "print(df[df['Item']=='NONE'])"
   ]
  },
  {
   "cell_type": "markdown",
   "id": "c273d32c",
   "metadata": {},
   "source": [
    "Terdapat nilai 'NONE' pada dataset. Ini bisa berarti bahwa ada item yang tidak dibeli, atau nama item tersebut tidak dicatat. Terdapat 786 data dengan nilai \"None\" dari total 21293. Karena data ini tidak berguna, maka bisa kita hapus saja."
   ]
  },
  {
   "cell_type": "code",
   "execution_count": 11,
   "id": "518ceb26",
   "metadata": {},
   "outputs": [],
   "source": [
    "# menghapus baris dengan nilai Item = None\n",
    "df.drop(df[df['Item']=='NONE'].index, inplace=True)"
   ]
  },
  {
   "cell_type": "code",
   "execution_count": 12,
   "id": "740af4fa",
   "metadata": {},
   "outputs": [
    {
     "name": "stdout",
     "output_type": "stream",
     "text": [
      "<class 'pandas.core.frame.DataFrame'>\n",
      "Int64Index: 20507 entries, 0 to 21292\n",
      "Data columns (total 4 columns):\n",
      " #   Column       Non-Null Count  Dtype \n",
      "---  ------       --------------  ----- \n",
      " 0   Date         20507 non-null  object\n",
      " 1   Time         20507 non-null  object\n",
      " 2   Transaction  20507 non-null  int64 \n",
      " 3   Item         20507 non-null  object\n",
      "dtypes: int64(1), object(3)\n",
      "memory usage: 801.1+ KB\n",
      "None\n"
     ]
    }
   ],
   "source": [
    "# cek perubahan yang terjadi\n",
    "print(df.info())"
   ]
  },
  {
   "cell_type": "markdown",
   "id": "07d43ed6",
   "metadata": {},
   "source": [
    "Seperti yang bisa kita lihat di atas, fitur Tanggal dan Waktu bukanlah tipe numerik. Untuk visualisasi dan pemahaman data yang lebih baik, kita bisa menambahkan beberapa fitur lagi ke DataFrame ini berdasarkan informasi dari dua fitur ini."
   ]
  },
  {
   "cell_type": "code",
   "execution_count": 13,
   "id": "f3797532",
   "metadata": {},
   "outputs": [],
   "source": [
    "# Year (ingat kembali penulisan function lambda)\n",
    "df['Year'] = df['Date'].apply(lambda x: x.split(\"-\")[0])\n",
    "# Month\n",
    "df['Month'] = df['Date'].apply(lambda x: x.split(\"-\")[1])\n",
    "# Day\n",
    "df['Day'] = df['Date'].apply(lambda x: x.split(\"-\")[2])"
   ]
  },
  {
   "cell_type": "code",
   "execution_count": 14,
   "id": "3332456d",
   "metadata": {},
   "outputs": [
    {
     "name": "stdout",
     "output_type": "stream",
     "text": [
      "<class 'pandas.core.frame.DataFrame'>\n",
      "Int64Index: 20507 entries, 0 to 21292\n",
      "Data columns (total 7 columns):\n",
      " #   Column       Non-Null Count  Dtype \n",
      "---  ------       --------------  ----- \n",
      " 0   Date         20507 non-null  object\n",
      " 1   Time         20507 non-null  object\n",
      " 2   Transaction  20507 non-null  int64 \n",
      " 3   Item         20507 non-null  object\n",
      " 4   Year         20507 non-null  object\n",
      " 5   Month        20507 non-null  object\n",
      " 6   Day          20507 non-null  object\n",
      "dtypes: int64(1), object(6)\n",
      "memory usage: 1.3+ MB\n",
      "None\n",
      "         Date      Time  Transaction           Item  Year Month Day\n",
      "0  2016-10-30  09:58:11            1          Bread  2016    10  30\n",
      "1  2016-10-30  10:05:34            2   Scandinavian  2016    10  30\n",
      "2  2016-10-30  10:05:34            2   Scandinavian  2016    10  30\n",
      "3  2016-10-30  10:07:57            3  Hot chocolate  2016    10  30\n",
      "4  2016-10-30  10:07:57            3            Jam  2016    10  30\n"
     ]
    }
   ],
   "source": [
    "# cek kembali perubahan yang terjadi setelah nilai tahun, bulan dan hari ditampung di fitur baru (year, month, day)\n",
    "print(df.info())\n",
    "print(df.head())"
   ]
  },
  {
   "cell_type": "markdown",
   "id": "44dd52f9",
   "metadata": {},
   "source": [
    "# Visualisasi dan Memahami Data"
   ]
  },
  {
   "cell_type": "markdown",
   "id": "52e89c74",
   "metadata": {},
   "source": [
    "Kita tahu bahwa dataset ini direkam dari 30/10/2016 hingga 09/04/2017. \n",
    "Sebelum kita masuk dalam pemodelan, kita harus mengeksplorasi dan memvisualisasikan penjualan dalam periode waktu ini. \n",
    "Barang apa yang paling banyak dibeli pelanggan? Bulan mana yang lebih sukses? Mari kita jawab ini secara visual."
   ]
  },
  {
   "cell_type": "code",
   "execution_count": 15,
   "id": "2ac5bc82",
   "metadata": {},
   "outputs": [
    {
     "name": "stdout",
     "output_type": "stream",
     "text": [
      "Most Sold Items: \n",
      "\n",
      "Coffee           5471\n",
      "Bread            3325\n",
      "Tea              1435\n",
      "Cake             1025\n",
      "Pastry            856\n",
      "Sandwich          771\n",
      "Medialuna         616\n",
      "Hot chocolate     590\n",
      "Cookies           540\n",
      "Brownie           379\n",
      "Farm House        374\n",
      "Muffin            370\n",
      "Alfajores         369\n",
      "Juice             369\n",
      "Soup              342\n",
      "Scone             327\n",
      "Toast             318\n",
      "Scandinavian      277\n",
      "Truffles          193\n",
      "Coke              185\n",
      "Name: Item, dtype: int64\n"
     ]
    }
   ],
   "source": [
    "# Mencetak 20 data penjualan item terbanyak\n",
    "most_sold = df['Item'].value_counts().head(20)\n",
    "\n",
    "print('Most Sold Items: \\n')\n",
    "print(most_sold)"
   ]
  },
  {
   "cell_type": "code",
   "execution_count": 19,
   "id": "d5cf8300",
   "metadata": {},
   "outputs": [
    {
     "data": {
      "text/html": [
       "<div>\n",
       "<style scoped>\n",
       "    .dataframe tbody tr th:only-of-type {\n",
       "        vertical-align: middle;\n",
       "    }\n",
       "\n",
       "    .dataframe tbody tr th {\n",
       "        vertical-align: top;\n",
       "    }\n",
       "\n",
       "    .dataframe thead th {\n",
       "        text-align: right;\n",
       "    }\n",
       "</style>\n",
       "<table border=\"1\" class=\"dataframe\">\n",
       "  <thead>\n",
       "    <tr style=\"text-align: right;\">\n",
       "      <th></th>\n",
       "      <th>Transaction</th>\n",
       "    </tr>\n",
       "    <tr>\n",
       "      <th>Item</th>\n",
       "      <th></th>\n",
       "    </tr>\n",
       "  </thead>\n",
       "  <tbody>\n",
       "    <tr>\n",
       "      <th>Coffee</th>\n",
       "      <td>26.678695</td>\n",
       "    </tr>\n",
       "    <tr>\n",
       "      <th>Bread</th>\n",
       "      <td>16.213976</td>\n",
       "    </tr>\n",
       "    <tr>\n",
       "      <th>Tea</th>\n",
       "      <td>6.997611</td>\n",
       "    </tr>\n",
       "    <tr>\n",
       "      <th>Cake</th>\n",
       "      <td>4.998293</td>\n",
       "    </tr>\n",
       "    <tr>\n",
       "      <th>Pastry</th>\n",
       "      <td>4.174184</td>\n",
       "    </tr>\n",
       "  </tbody>\n",
       "</table>\n",
       "</div>"
      ],
      "text/plain": [
       "        Transaction\n",
       "Item               \n",
       "Coffee    26.678695\n",
       "Bread     16.213976\n",
       "Tea        6.997611\n",
       "Cake       4.998293\n",
       "Pastry     4.174184"
      ]
     },
     "execution_count": 19,
     "metadata": {},
     "output_type": "execute_result"
    }
   ],
   "source": [
    "transaction_count = df.groupby(by='Item')[['Transaction']].count().sort_values(by='Transaction', ascending=False)\n",
    "def convert_to_percentage(x):\n",
    "    return 100 * x / float(x.sum())\n",
    "\n",
    "transaction_percentage = transaction_count.apply(convert_to_percentage)\n",
    "transaction_percentage.head()"
   ]
  },
  {
   "cell_type": "code",
   "execution_count": 20,
   "id": "2c35cdfc",
   "metadata": {},
   "outputs": [
    {
     "data": {
      "text/plain": [
       "Text(0.5, 1.0, 'Items Most Sold')"
      ]
     },
     "execution_count": 20,
     "metadata": {},
     "output_type": "execute_result"
    },
    {
     "data": {
      "image/png": "[encoded data removed]",
      "text/plain": [
       "<Figure size 1440x432 with 2 Axes>"
      ]
     },
     "metadata": {
      "needs_background": "light"
     },
     "output_type": "display_data"
    }
   ],
   "source": [
    "# visualisasikan data penjualan item terbanyak ke line chart dan bar chart\n",
    "plt.figure(figsize=(20,6))\n",
    "\n",
    "plt.subplot(1,2,1)\n",
    "#plt.plot(most_sold)\n",
    "most_sold.plot(kind='line')\n",
    "plt.title('Items Most Sold')\n",
    "\n",
    "\n",
    "plt.subplot(1,2,2)\n",
    "most_sold.plot(kind='bar')\n",
    "plt.title('Items Most Sold')"
   ]
  },
  {
   "cell_type": "markdown",
   "id": "f1df42f7",
   "metadata": {},
   "source": [
    "Berdasarkan hasil visualisasi, kopi adalah barang yang paling banyak terjual, diikuti oleh roti, teh, kue, dan kue kering. Ini masuk akal untuk toko roti. Sekarang setelah kita mengetahui item mana yang paling populer, mari kita lihat bulan mana yang menghasilkan penjualan paling banyak."
   ]
  },
  {
   "cell_type": "code",
   "execution_count": 21,
   "id": "716c8427",
   "metadata": {},
   "outputs": [
    {
     "data": {
      "image/png": "[encoded data removed]",
      "text/plain": [
       "<Figure size 432x288 with 1 Axes>"
      ]
     },
     "metadata": {
      "needs_background": "light"
     },
     "output_type": "display_data"
    }
   ],
   "source": [
    "df.groupby('Month')['Transaction'].nunique().plot(kind='bar', title='Monthly Sales')\n",
    "plt.show()"
   ]
  },
  {
   "cell_type": "markdown",
   "id": "241d9689",
   "metadata": {},
   "source": [
    "Dari hasil visualisasi data penjualan perbulan, terlihat terjadi perbedaan penjualan yang drastis pada bulan 4 dan 10 ini disebut dengan outlier. Untuk mengetahui lebih lanjut, kita bisa periksa untuk melihat apakah ada lebih sedikit transaksi harian yang dicatat untuk bulan-bulan ini dibandingkan dengan yang lain."
   ]
  },
  {
   "cell_type": "code",
   "execution_count": 22,
   "id": "6da779bc",
   "metadata": {},
   "outputs": [
    {
     "name": "stdout",
     "output_type": "stream",
     "text": [
      "Month\n",
      "01    30\n",
      "02    28\n",
      "03    31\n",
      "04     9\n",
      "10     2\n",
      "11    30\n",
      "12    29\n",
      "Name: Day, dtype: int64\n"
     ]
    }
   ],
   "source": [
    "print(df.groupby('Month')['Day'].nunique())"
   ]
  },
  {
   "cell_type": "markdown",
   "id": "9ad00551",
   "metadata": {},
   "source": [
    "# Market Basket Analysis"
   ]
  },
  {
   "cell_type": "markdown",
   "id": "a96371e0",
   "metadata": {},
   "source": [
    "Pertama kita mengubah item list menjadi data transaksi dengan menggunakan TransactionEncoder. Kita akan menggunakan frequent item-sets untuk menghasilkan aturan asosiasi dengan menggunakan algoritma Apriori."
   ]
  },
  {
   "cell_type": "code",
   "execution_count": 24,
   "id": "7f721ce9",
   "metadata": {},
   "outputs": [],
   "source": [
    "from mlxtend.preprocessing import TransactionEncoder\n",
    "from mlxtend.frequent_patterns import association_rules, apriori"
   ]
  },
  {
   "cell_type": "markdown",
   "id": "755762fb",
   "metadata": {},
   "source": [
    "kita membuat list transaction_list() yang unik sehingga kita dapat mengubah data kita ke dalam format yang benar"
   ]
  },
  {
   "cell_type": "code",
   "execution_count": 25,
   "id": "da976d51",
   "metadata": {},
   "outputs": [
    {
     "name": "stdout",
     "output_type": "stream",
     "text": [
      "9465\n"
     ]
    }
   ],
   "source": [
    "transaction_list = []\n",
    "\n",
    "# For loop to create a list of the unique transactions throughout the dataset:\n",
    "for i in df['Transaction'].unique():\n",
    "    tlist = list(set(df[df['Transaction']==i]['Item']))\n",
    "    if len(tlist)>0:\n",
    "        transaction_list.append(tlist)\n",
    "print(len(transaction_list))"
   ]
  },
  {
   "cell_type": "code",
   "execution_count": null,
   "id": "9e832607",
   "metadata": {},
   "outputs": [],
   "source": [
    "kita menggunakan TransactionEncoder untuk merubah bentuk transaction_list()"
   ]
  },
  {
   "cell_type": "code",
   "execution_count": 26,
   "id": "f90d5232",
   "metadata": {},
   "outputs": [],
   "source": [
    "te = TransactionEncoder()\n",
    "te_ary = te.fit(transaction_list).transform(transaction_list)\n",
    "df2 = pd.DataFrame(te_ary, columns=te.columns_)"
   ]
  },
  {
   "cell_type": "markdown",
   "id": "24bed1d9",
   "metadata": {},
   "source": [
    "Sekarang kita terapkan Apriori. \n",
    "Kita akan menggunakan parameter min_threshold (nilai ambang batas yang ditentukan) \n",
    "dalam aturan asosiasi untuk metrik lift menjadi 1,0 karena jika kurang dari satu, \n",
    "maka kedua item tersebut kemungkinan tidak akan dibeli bersama. \n",
    "Kita akan mengurutkan nilai berdasarkan keyakinan untuk melihat kemungkinan suatu barang dibeli jika pendahulunya dibeli."
   ]
  },
  {
   "cell_type": "code",
   "execution_count": 27,
   "id": "0fba0ab6",
   "metadata": {},
   "outputs": [
    {
     "data": {
      "text/html": [
       "<div>\n",
       "<style scoped>\n",
       "    .dataframe tbody tr th:only-of-type {\n",
       "        vertical-align: middle;\n",
       "    }\n",
       "\n",
       "    .dataframe tbody tr th {\n",
       "        vertical-align: top;\n",
       "    }\n",
       "\n",
       "    .dataframe thead th {\n",
       "        text-align: right;\n",
       "    }\n",
       "</style>\n",
       "<table border=\"1\" class=\"dataframe\">\n",
       "  <thead>\n",
       "    <tr style=\"text-align: right;\">\n",
       "      <th></th>\n",
       "      <th>antecedents</th>\n",
       "      <th>consequents</th>\n",
       "      <th>support</th>\n",
       "      <th>confidence</th>\n",
       "      <th>lift</th>\n",
       "    </tr>\n",
       "  </thead>\n",
       "  <tbody>\n",
       "    <tr>\n",
       "      <th>40</th>\n",
       "      <td>(Cake)</td>\n",
       "      <td>(Tea, Coffee)</td>\n",
       "      <td>0.010037</td>\n",
       "      <td>0.096643</td>\n",
       "      <td>1.937977</td>\n",
       "    </tr>\n",
       "    <tr>\n",
       "      <th>39</th>\n",
       "      <td>(Tea, Coffee)</td>\n",
       "      <td>(Cake)</td>\n",
       "      <td>0.010037</td>\n",
       "      <td>0.201271</td>\n",
       "      <td>1.937977</td>\n",
       "    </tr>\n",
       "    <tr>\n",
       "      <th>8</th>\n",
       "      <td>(Cake)</td>\n",
       "      <td>(Hot chocolate)</td>\n",
       "      <td>0.011410</td>\n",
       "      <td>0.109868</td>\n",
       "      <td>1.883874</td>\n",
       "    </tr>\n",
       "    <tr>\n",
       "      <th>9</th>\n",
       "      <td>(Hot chocolate)</td>\n",
       "      <td>(Cake)</td>\n",
       "      <td>0.011410</td>\n",
       "      <td>0.195652</td>\n",
       "      <td>1.883874</td>\n",
       "    </tr>\n",
       "    <tr>\n",
       "      <th>11</th>\n",
       "      <td>(Tea)</td>\n",
       "      <td>(Cake)</td>\n",
       "      <td>0.023772</td>\n",
       "      <td>0.166667</td>\n",
       "      <td>1.604781</td>\n",
       "    </tr>\n",
       "    <tr>\n",
       "      <th>10</th>\n",
       "      <td>(Cake)</td>\n",
       "      <td>(Tea)</td>\n",
       "      <td>0.023772</td>\n",
       "      <td>0.228891</td>\n",
       "      <td>1.604781</td>\n",
       "    </tr>\n",
       "    <tr>\n",
       "      <th>30</th>\n",
       "      <td>(Toast)</td>\n",
       "      <td>(Coffee)</td>\n",
       "      <td>0.023666</td>\n",
       "      <td>0.704403</td>\n",
       "      <td>1.472431</td>\n",
       "    </tr>\n",
       "    <tr>\n",
       "      <th>31</th>\n",
       "      <td>(Coffee)</td>\n",
       "      <td>(Toast)</td>\n",
       "      <td>0.023666</td>\n",
       "      <td>0.049470</td>\n",
       "      <td>1.472431</td>\n",
       "    </tr>\n",
       "    <tr>\n",
       "      <th>37</th>\n",
       "      <td>(Pastry)</td>\n",
       "      <td>(Coffee, Bread)</td>\n",
       "      <td>0.011199</td>\n",
       "      <td>0.130061</td>\n",
       "      <td>1.444872</td>\n",
       "    </tr>\n",
       "    <tr>\n",
       "      <th>36</th>\n",
       "      <td>(Coffee, Bread)</td>\n",
       "      <td>(Pastry)</td>\n",
       "      <td>0.011199</td>\n",
       "      <td>0.124413</td>\n",
       "      <td>1.444872</td>\n",
       "    </tr>\n",
       "    <tr>\n",
       "      <th>32</th>\n",
       "      <td>(Sandwich)</td>\n",
       "      <td>(Tea)</td>\n",
       "      <td>0.014369</td>\n",
       "      <td>0.200000</td>\n",
       "      <td>1.402222</td>\n",
       "    </tr>\n",
       "    <tr>\n",
       "      <th>33</th>\n",
       "      <td>(Tea)</td>\n",
       "      <td>(Sandwich)</td>\n",
       "      <td>0.014369</td>\n",
       "      <td>0.100741</td>\n",
       "      <td>1.402222</td>\n",
       "    </tr>\n",
       "    <tr>\n",
       "      <th>41</th>\n",
       "      <td>(Tea)</td>\n",
       "      <td>(Cake, Coffee)</td>\n",
       "      <td>0.010037</td>\n",
       "      <td>0.070370</td>\n",
       "      <td>1.285822</td>\n",
       "    </tr>\n",
       "    <tr>\n",
       "      <th>38</th>\n",
       "      <td>(Cake, Coffee)</td>\n",
       "      <td>(Tea)</td>\n",
       "      <td>0.010037</td>\n",
       "      <td>0.183398</td>\n",
       "      <td>1.285822</td>\n",
       "    </tr>\n",
       "    <tr>\n",
       "      <th>29</th>\n",
       "      <td>(Spanish Brunch)</td>\n",
       "      <td>(Coffee)</td>\n",
       "      <td>0.010882</td>\n",
       "      <td>0.598837</td>\n",
       "      <td>1.251766</td>\n",
       "    </tr>\n",
       "    <tr>\n",
       "      <th>28</th>\n",
       "      <td>(Coffee)</td>\n",
       "      <td>(Spanish Brunch)</td>\n",
       "      <td>0.010882</td>\n",
       "      <td>0.022747</td>\n",
       "      <td>1.251766</td>\n",
       "    </tr>\n",
       "    <tr>\n",
       "      <th>18</th>\n",
       "      <td>(Medialuna)</td>\n",
       "      <td>(Coffee)</td>\n",
       "      <td>0.035182</td>\n",
       "      <td>0.569231</td>\n",
       "      <td>1.189878</td>\n",
       "    </tr>\n",
       "    <tr>\n",
       "      <th>19</th>\n",
       "      <td>(Coffee)</td>\n",
       "      <td>(Medialuna)</td>\n",
       "      <td>0.035182</td>\n",
       "      <td>0.073542</td>\n",
       "      <td>1.189878</td>\n",
       "    </tr>\n",
       "    <tr>\n",
       "      <th>23</th>\n",
       "      <td>(Coffee)</td>\n",
       "      <td>(Pastry)</td>\n",
       "      <td>0.047544</td>\n",
       "      <td>0.099382</td>\n",
       "      <td>1.154168</td>\n",
       "    </tr>\n",
       "    <tr>\n",
       "      <th>22</th>\n",
       "      <td>(Pastry)</td>\n",
       "      <td>(Coffee)</td>\n",
       "      <td>0.047544</td>\n",
       "      <td>0.552147</td>\n",
       "      <td>1.154168</td>\n",
       "    </tr>\n",
       "    <tr>\n",
       "      <th>1</th>\n",
       "      <td>(Coffee)</td>\n",
       "      <td>(Alfajores)</td>\n",
       "      <td>0.019651</td>\n",
       "      <td>0.041078</td>\n",
       "      <td>1.130235</td>\n",
       "    </tr>\n",
       "    <tr>\n",
       "      <th>0</th>\n",
       "      <td>(Alfajores)</td>\n",
       "      <td>(Coffee)</td>\n",
       "      <td>0.019651</td>\n",
       "      <td>0.540698</td>\n",
       "      <td>1.130235</td>\n",
       "    </tr>\n",
       "    <tr>\n",
       "      <th>17</th>\n",
       "      <td>(Coffee)</td>\n",
       "      <td>(Juice)</td>\n",
       "      <td>0.020602</td>\n",
       "      <td>0.043065</td>\n",
       "      <td>1.116750</td>\n",
       "    </tr>\n",
       "    <tr>\n",
       "      <th>16</th>\n",
       "      <td>(Juice)</td>\n",
       "      <td>(Coffee)</td>\n",
       "      <td>0.020602</td>\n",
       "      <td>0.534247</td>\n",
       "      <td>1.116750</td>\n",
       "    </tr>\n",
       "    <tr>\n",
       "      <th>24</th>\n",
       "      <td>(Sandwich)</td>\n",
       "      <td>(Coffee)</td>\n",
       "      <td>0.038246</td>\n",
       "      <td>0.532353</td>\n",
       "      <td>1.112792</td>\n",
       "    </tr>\n",
       "    <tr>\n",
       "      <th>25</th>\n",
       "      <td>(Coffee)</td>\n",
       "      <td>(Sandwich)</td>\n",
       "      <td>0.038246</td>\n",
       "      <td>0.079947</td>\n",
       "      <td>1.112792</td>\n",
       "    </tr>\n",
       "    <tr>\n",
       "      <th>6</th>\n",
       "      <td>(Cake)</td>\n",
       "      <td>(Coffee)</td>\n",
       "      <td>0.054728</td>\n",
       "      <td>0.526958</td>\n",
       "      <td>1.101515</td>\n",
       "    </tr>\n",
       "    <tr>\n",
       "      <th>7</th>\n",
       "      <td>(Coffee)</td>\n",
       "      <td>(Cake)</td>\n",
       "      <td>0.054728</td>\n",
       "      <td>0.114399</td>\n",
       "      <td>1.101515</td>\n",
       "    </tr>\n",
       "    <tr>\n",
       "      <th>26</th>\n",
       "      <td>(Scone)</td>\n",
       "      <td>(Coffee)</td>\n",
       "      <td>0.018067</td>\n",
       "      <td>0.522936</td>\n",
       "      <td>1.093107</td>\n",
       "    </tr>\n",
       "    <tr>\n",
       "      <th>27</th>\n",
       "      <td>(Coffee)</td>\n",
       "      <td>(Scone)</td>\n",
       "      <td>0.018067</td>\n",
       "      <td>0.037765</td>\n",
       "      <td>1.093107</td>\n",
       "    </tr>\n",
       "    <tr>\n",
       "      <th>12</th>\n",
       "      <td>(Cookies)</td>\n",
       "      <td>(Coffee)</td>\n",
       "      <td>0.028209</td>\n",
       "      <td>0.518447</td>\n",
       "      <td>1.083723</td>\n",
       "    </tr>\n",
       "    <tr>\n",
       "      <th>13</th>\n",
       "      <td>(Coffee)</td>\n",
       "      <td>(Cookies)</td>\n",
       "      <td>0.028209</td>\n",
       "      <td>0.058966</td>\n",
       "      <td>1.083723</td>\n",
       "    </tr>\n",
       "    <tr>\n",
       "      <th>34</th>\n",
       "      <td>(Coffee, Bread)</td>\n",
       "      <td>(Cake)</td>\n",
       "      <td>0.010037</td>\n",
       "      <td>0.111502</td>\n",
       "      <td>1.073621</td>\n",
       "    </tr>\n",
       "    <tr>\n",
       "      <th>35</th>\n",
       "      <td>(Cake)</td>\n",
       "      <td>(Coffee, Bread)</td>\n",
       "      <td>0.010037</td>\n",
       "      <td>0.096643</td>\n",
       "      <td>1.073621</td>\n",
       "    </tr>\n",
       "    <tr>\n",
       "      <th>14</th>\n",
       "      <td>(Hot chocolate)</td>\n",
       "      <td>(Coffee)</td>\n",
       "      <td>0.029583</td>\n",
       "      <td>0.507246</td>\n",
       "      <td>1.060311</td>\n",
       "    </tr>\n",
       "    <tr>\n",
       "      <th>15</th>\n",
       "      <td>(Coffee)</td>\n",
       "      <td>(Hot chocolate)</td>\n",
       "      <td>0.029583</td>\n",
       "      <td>0.061837</td>\n",
       "      <td>1.060311</td>\n",
       "    </tr>\n",
       "    <tr>\n",
       "      <th>3</th>\n",
       "      <td>(Bread)</td>\n",
       "      <td>(Pastry)</td>\n",
       "      <td>0.029160</td>\n",
       "      <td>0.089119</td>\n",
       "      <td>1.034977</td>\n",
       "    </tr>\n",
       "    <tr>\n",
       "      <th>2</th>\n",
       "      <td>(Pastry)</td>\n",
       "      <td>(Bread)</td>\n",
       "      <td>0.029160</td>\n",
       "      <td>0.338650</td>\n",
       "      <td>1.034977</td>\n",
       "    </tr>\n",
       "    <tr>\n",
       "      <th>5</th>\n",
       "      <td>(Coffee)</td>\n",
       "      <td>(Brownie)</td>\n",
       "      <td>0.019651</td>\n",
       "      <td>0.041078</td>\n",
       "      <td>1.025860</td>\n",
       "    </tr>\n",
       "    <tr>\n",
       "      <th>4</th>\n",
       "      <td>(Brownie)</td>\n",
       "      <td>(Coffee)</td>\n",
       "      <td>0.019651</td>\n",
       "      <td>0.490765</td>\n",
       "      <td>1.025860</td>\n",
       "    </tr>\n",
       "    <tr>\n",
       "      <th>20</th>\n",
       "      <td>(Coffee)</td>\n",
       "      <td>(Muffin)</td>\n",
       "      <td>0.018806</td>\n",
       "      <td>0.039311</td>\n",
       "      <td>1.022193</td>\n",
       "    </tr>\n",
       "    <tr>\n",
       "      <th>21</th>\n",
       "      <td>(Muffin)</td>\n",
       "      <td>(Coffee)</td>\n",
       "      <td>0.018806</td>\n",
       "      <td>0.489011</td>\n",
       "      <td>1.022193</td>\n",
       "    </tr>\n",
       "  </tbody>\n",
       "</table>\n",
       "</div>"
      ],
      "text/plain": [
       "         antecedents       consequents   support  confidence      lift\n",
       "40            (Cake)     (Tea, Coffee)  0.010037    0.096643  1.937977\n",
       "39     (Tea, Coffee)            (Cake)  0.010037    0.201271  1.937977\n",
       "8             (Cake)   (Hot chocolate)  0.011410    0.109868  1.883874\n",
       "9    (Hot chocolate)            (Cake)  0.011410    0.195652  1.883874\n",
       "11             (Tea)            (Cake)  0.023772    0.166667  1.604781\n",
       "10            (Cake)             (Tea)  0.023772    0.228891  1.604781\n",
       "30           (Toast)          (Coffee)  0.023666    0.704403  1.472431\n",
       "31          (Coffee)           (Toast)  0.023666    0.049470  1.472431\n",
       "37          (Pastry)   (Coffee, Bread)  0.011199    0.130061  1.444872\n",
       "36   (Coffee, Bread)          (Pastry)  0.011199    0.124413  1.444872\n",
       "32        (Sandwich)             (Tea)  0.014369    0.200000  1.402222\n",
       "33             (Tea)        (Sandwich)  0.014369    0.100741  1.402222\n",
       "41             (Tea)    (Cake, Coffee)  0.010037    0.070370  1.285822\n",
       "38    (Cake, Coffee)             (Tea)  0.010037    0.183398  1.285822\n",
       "29  (Spanish Brunch)          (Coffee)  0.010882    0.598837  1.251766\n",
       "28          (Coffee)  (Spanish Brunch)  0.010882    0.022747  1.251766\n",
       "18       (Medialuna)          (Coffee)  0.035182    0.569231  1.189878\n",
       "19          (Coffee)       (Medialuna)  0.035182    0.073542  1.189878\n",
       "23          (Coffee)          (Pastry)  0.047544    0.099382  1.154168\n",
       "22          (Pastry)          (Coffee)  0.047544    0.552147  1.154168\n",
       "1           (Coffee)       (Alfajores)  0.019651    0.041078  1.130235\n",
       "0        (Alfajores)          (Coffee)  0.019651    0.540698  1.130235\n",
       "17          (Coffee)           (Juice)  0.020602    0.043065  1.116750\n",
       "16           (Juice)          (Coffee)  0.020602    0.534247  1.116750\n",
       "24        (Sandwich)          (Coffee)  0.038246    0.532353  1.112792\n",
       "25          (Coffee)        (Sandwich)  0.038246    0.079947  1.112792\n",
       "6             (Cake)          (Coffee)  0.054728    0.526958  1.101515\n",
       "7           (Coffee)            (Cake)  0.054728    0.114399  1.101515\n",
       "26           (Scone)          (Coffee)  0.018067    0.522936  1.093107\n",
       "27          (Coffee)           (Scone)  0.018067    0.037765  1.093107\n",
       "12         (Cookies)          (Coffee)  0.028209    0.518447  1.083723\n",
       "13          (Coffee)         (Cookies)  0.028209    0.058966  1.083723\n",
       "34   (Coffee, Bread)            (Cake)  0.010037    0.111502  1.073621\n",
       "35            (Cake)   (Coffee, Bread)  0.010037    0.096643  1.073621\n",
       "14   (Hot chocolate)          (Coffee)  0.029583    0.507246  1.060311\n",
       "15          (Coffee)   (Hot chocolate)  0.029583    0.061837  1.060311\n",
       "3            (Bread)          (Pastry)  0.029160    0.089119  1.034977\n",
       "2           (Pastry)           (Bread)  0.029160    0.338650  1.034977\n",
       "5           (Coffee)         (Brownie)  0.019651    0.041078  1.025860\n",
       "4          (Brownie)          (Coffee)  0.019651    0.490765  1.025860\n",
       "20          (Coffee)          (Muffin)  0.018806    0.039311  1.022193\n",
       "21          (Muffin)          (Coffee)  0.018806    0.489011  1.022193"
      ]
     },
     "execution_count": 27,
     "metadata": {},
     "output_type": "execute_result"
    }
   ],
   "source": [
    "frequent_itemsets = apriori(df2, min_support=0.01, use_colnames=True)\n",
    "rules = association_rules(frequent_itemsets, metric='lift', min_threshold=1.0)\n",
    "metrix = pd.DataFrame(rules)\n",
    "metrix[['antecedents','consequents', 'support', 'confidence', 'lift']].sort_values('lift', ascending=False)"
   ]
  },
  {
   "cell_type": "markdown",
   "id": "58adfeaf",
   "metadata": {},
   "source": [
    "# Kesimpulan"
   ]
  },
  {
   "cell_type": "code",
   "execution_count": null,
   "id": "a1b25896",
   "metadata": {},
   "outputs": [],
   "source": [
    "Dapat dilihat dari analisis diatas, di mana semakin tinggi nilai peningkatan, semakin kuat korelasi antar item. \n",
    "Data dengan jelas menunjukkan bahwa kopi adalah konsekuensi populer, yang masuk akal karena itu adalah toko roti. \n",
    "Selain kopi, mari kita lihat korelasi item yang lebih menarik (format: antecedant(s) -> consequent):\n",
    "\n",
    "Kue Kering -> Roti\n",
    "Kue -> Teh\n",
    "(Kopi + Teh) -> Kue\n",
    "Sandwhich -> Teh\n",
    "Cokelat Panas -> Kue\n",
    "Bisnis selalu mencari cara untuk mengoptimalkan pengaturan mereka dan meningkatkan penjualan mereka. Toko roti tidak berbeda, dan analisis semacam ini bisa dilakukan untuk semua jenis toko ritel atau pasar juga. Karena kita sekarang mengetahui korelasi antara item dan kepentingan bersama pelanggan, bisnis dapat membuat keputusan berdasarkan temuan ini. Misalnya, toko roti ini mungkin ingin meletakkan roti yang baru dipanggang di dekat kue kering mereka, karena pelanggan yang membeli kue kering tampaknya juga tertarik dengan roti. Selain penempatan produk, toko roti mungkin juga tertarik untuk mengadakan promosi item gratis, mengingat kemungkinan besar item lain dijual sebagai hasilnya (Misalnya, jika mereka memberikan beberapa roti panggang spesial gratis, itu mungkin tidak hanya menarik pelanggan baru yang sering datang, tetapi juga ada peluang yang sangat bagus bahwa pelanggan masih akan menghabiskan uang untuk kopi)."
   ]
  }
 ],
 "metadata": {
  "kernelspec": {
   "display_name": "Python 3 (ipykernel)",
   "language": "python",
   "name": "python3"
  },
  "language_info": {
   "codemirror_mode": {
    "name": "ipython",
    "version": 3
   },
   "file_extension": ".py",
   "mimetype": "text/x-python",
   "name": "python",
   "nbconvert_exporter": "python",
   "pygments_lexer": "ipython3",
   "version": "3.9.7"
  }
 },
 "nbformat": 4,
 "nbformat_minor": 5
}
